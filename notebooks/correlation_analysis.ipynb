{
 "cells": [
  {
   "cell_type": "markdown",
   "metadata": {},
   "source": [
    "## Task - 3 Correlation Analysis"
   ]
  },
  {
   "cell_type": "markdown",
   "metadata": {},
   "source": [
    "#### Data Preparation"
   ]
  },
  {
   "cell_type": "code",
   "execution_count": 1,
   "metadata": {},
   "outputs": [],
   "source": [
    "import os\n",
    "import pandas as pd\n",
    "import yfinance as yf\n",
    "import nltk\n",
    "from textblob import TextBlob\n",
    "import numpy as np\n",
    "import sys\n",
    "from sklearn.metrics import mean_squared_error\n",
    "from scipy.stats import pearsonr\n",
    "import matplotlib.pyplot as plt\n",
    "import seaborn as sns"
   ]
  },
  {
   "cell_type": "code",
   "execution_count": 2,
   "metadata": {},
   "outputs": [],
   "source": [
    "# Get the current working directory\n",
    "current_directory = os.getcwd()\n",
    "\n",
    "# Get the parent directory\n",
    "parent_dir = os.path.dirname(current_directory)\n",
    "\n",
    "# Insert the parent directory into sys.path\n",
    "sys.path.insert(0, parent_dir)\n",
    "\n",
    "# Insert the path to the Scripts directory\n",
    "scripts_dir = os.path.join(parent_dir, 'scripts')\n",
    "sys.path.insert(0, scripts_dir)\n",
    "\n",
    "# Now I can import my module\n",
    "from scripts.main import DataPreprocessing"
   ]
  },
  {
   "cell_type": "markdown",
   "metadata": {},
   "source": [
    "#### Normalize Dates of News and load data"
   ]
  },
  {
   "cell_type": "code",
   "execution_count": 3,
   "metadata": {},
   "outputs": [
    {
     "name": "stdout",
     "output_type": "stream",
     "text": [
      "Data for Row-Analysis-Ratings loaded successfully.\n"
     ]
    }
   ],
   "source": [
    "file_path = { \n",
    "    \"Row-Analysis-Ratings\": \"https://drive.google.com/uc?export=download&id=1MC0ePKh2oc3VqGtOMNTboyICpyuiSr2l\"\n",
    "}\n",
    "preprocesor = DataPreprocessing(file_path)\n",
    "data_frames = preprocesor.process_file()\n",
    "df = data_frames.get(\"Row-Analysis-Ratings\")\n",
    "df\n",
    "# Convert the 'date' column to datetime format and UTC-4 timezone\n",
    "df['date'] = pd.to_datetime(df['date'], format='ISO8601', utc=True)"
   ]
  },
  {
   "cell_type": "markdown",
   "metadata": {},
   "source": [
    "#### Normalize data of stock and load data "
   ]
  },
  {
   "cell_type": "code",
   "execution_count": 19,
   "metadata": {},
   "outputs": [],
   "source": [
    "import yfinance as yf\n",
    "import pandas as pd\n",
    "\n",
    "# Fetch stock prices using yfinance\n",
    "def fetch_stock_data(symbol, start_date, end_date):\n",
    "    ticker = yf.Ticker(symbol)\n",
    "    return ticker.history(start=start_date, end=end_date)\n",
    "\n",
    "# List of specific companies\n",
    "symbols = [\"AAPL\", \"AMZN\", \"GOOG\", \"NVDA\", \"TSLA\"]\n",
    "\n",
    "# Calculate date ranges for each of the stocks\n",
    "date_ranges = {}\n",
    "for symbol in symbols:\n",
    "    symbol_data = df[df['stock'] == symbol]\n",
    "    start_date = pd.to_datetime(symbol_data['date'].min(), utc=True)\n",
    "    end_date = pd.to_datetime(symbol_data['date'].max(), utc=True)\n",
    "    \n",
    "    # Localize naive timestamps to UTC\n",
    "    if start_date.tzinfo is None:\n",
    "        start_date = start_date.tz_localize(None)\n",
    "    else:\n",
    "        start_date = start_date.tz_convert('UTC')\n",
    "    \n",
    "    if end_date.tzinfo is None:\n",
    "        end_date = end_date.tz_localize('UTC')\n",
    "    else:\n",
    "        end_date = end_date.tz_convert('UTC')\n",
    "    \n",
    "    date_ranges[symbol] = (start_date, end_date)\n",
    "\n",
    "# Fetch stock prices and align with dates\n",
    "stock_data = {}\n",
    "for symbol, (start_date, end_date) in date_ranges.items():\n",
    "    if pd.notnull(symbol):  # Check if symbol is not NaN\n",
    "        try:\n",
    "            stock_data[symbol] = fetch_stock_data(symbol, start_date, end_date)\n",
    "        except ValueError as e:\n",
    "            print(f\"Error fetching data for {symbol}: {e}\")\n",
    "\n",
    "# Now stock_data contains the historical prices for the specified companies"
   ]
  },
  {
   "cell_type": "markdown",
   "metadata": {},
   "source": [
    "#### Perform Sentiment analysis"
   ]
  },
  {
   "cell_type": "code",
   "execution_count": 20,
   "metadata": {},
   "outputs": [],
   "source": [
    "# Sentiment Analysis using TextBlob\n",
    "def get_sentiment_score(text):\n",
    "    analysis = TextBlob(text)\n",
    "    return analysis.sentiment.polarity"
   ]
  },
  {
   "cell_type": "markdown",
   "metadata": {},
   "source": [
    "#### Compute Daily returns and calculate correlation"
   ]
  },
  {
   "cell_type": "code",
   "execution_count": 21,
   "metadata": {},
   "outputs": [],
   "source": [
    "# Calculate Daily Stock Returns and Sentiment Scores for each stock\n",
    "correlation_coefficients = {}\n",
    "for symbol in symbols:\n",
    "    if symbol in stock_data:  # Check if symbol is in stock_data\n",
    "        news_data = df[df['stock'] == symbol]\n",
    "        news_data = news_data.copy()  # Create a copy of news_data to avoid the SettingWithCopyWarning\n",
    "        news_data.rename(columns={\"date\": \"Date\"}, inplace=True)\n",
    "        stock_df = pd.DataFrame(stock_data[symbol])\n",
    "        merged_data = pd.merge(stock_df, news_data, on='Date')\n",
    "\n",
    "        # Apply Sentiment Analysis to headlines\n",
    "        merged_data['Sentiment_Score'] = merged_data['headline'].apply(get_sentiment_score)\n",
    "\n",
    "        # Calculate Daily Stock Returns\n",
    "        merged_data['Daily_Return'] = merged_data['Close'].pct_change()\n",
    "\n",
    "        # Calculate daily average sentiment scores by aggregating sentiment scores for each day\n",
    "        daily_sentiment = merged_data.groupby(merged_data['Date'].dt.date)['Sentiment_Score'].mean().reset_index()\n",
    "\n",
    "        # Convert 'Date' column to datetime in both dataframes\n",
    "        merged_data['Date'] = pd.to_datetime(merged_data['Date'], format='ISO8601', utc=True).dt.normalize()\n",
    "        daily_sentiment['Date'] = pd.to_datetime(daily_sentiment['Date'], format='ISO8601', utc=True).dt.normalize()\n",
    "\n",
    "        # Rename 'Sentiment_Score' column in 'daily_sentiment'\n",
    "        daily_sentiment.rename(columns={\"Sentiment_Score\": \"Daily_Avg_Sentiment_Score\"}, inplace=True)\n",
    "\n",
    "        # Merge daily stock returns with daily average sentiment scores\n",
    "        merged_data = pd.merge(merged_data, daily_sentiment, on='Date')\n",
    "\n",
    "        # Compute the correlation coefficient\n",
    "        correlation_coefficient = merged_data['Daily_Return'].corr(merged_data['Sentiment_Score'])\n",
    "        correlation_coefficients[symbol] = correlation_coefficient"
   ]
  },
  {
   "cell_type": "markdown",
   "metadata": {},
   "source": [
    "##### Visualize correlation "
   ]
  },
  {
   "cell_type": "code",
   "execution_count": 22,
   "metadata": {},
   "outputs": [
    {
     "name": "stdout",
     "output_type": "stream",
     "text": [
      "Correlation Coefficient between Daily Stock Returns and Sentiment Scores for AAPL: 0.14217756068550044\n",
      "Correlation Coefficient between Daily Stock Returns and Sentiment Scores for AMZN: -0.06954668441898432\n",
      "Correlation Coefficient between Daily Stock Returns and Sentiment Scores for GOOG: 0.06771413866335002\n",
      "Correlation Coefficient between Daily Stock Returns and Sentiment Scores for NVDA: 0.00283029527175746\n",
      "Correlation Coefficient between Daily Stock Returns and Sentiment Scores for TSLA: 0.021412265638911056\n"
     ]
    },
    {
     "data": {
      "image/png": "[encoded data removed]",
      "text/plain": [
       "<Figure size 1000x500 with 2 Axes>"
      ]
     },
     "metadata": {},
     "output_type": "display_data"
    }
   ],
   "source": [
    "# Print Correlation Coefficients\n",
    "for symbol, correlation in correlation_coefficients.items():\n",
    "    print(f\"Correlation Coefficient between Daily Stock Returns and Sentiment Scores for {symbol}: {correlation}\")\n",
    "\n",
    "# Visualization\n",
    "plt.figure(figsize=(10, 5))\n",
    "sns.heatmap(pd.DataFrame(correlation_coefficients, index=['Correlation']).T, annot=True, cmap='coolwarm')\n",
    "plt.title('Correlation between Daily Stock Returns and Sentiment Scores')\n",
    "plt.show()"
   ]
  }
 ],
 "metadata": {
  "language_info": {
   "name": "python"
  }
 },
 "nbformat": 4,
 "nbformat_minor": 2
}
